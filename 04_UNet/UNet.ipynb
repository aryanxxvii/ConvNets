{
 "cells": [
  {
   "cell_type": "markdown",
   "metadata": {},
   "source": [
    "### U-Net\n",
    "https://arxiv.org/pdf/1505.04597"
   ]
  },
  {
   "cell_type": "code",
   "execution_count": 30,
   "metadata": {},
   "outputs": [],
   "source": [
    "import torch\n",
    "import torch.nn as nn\n",
    "import torchvision"
   ]
  },
  {
   "cell_type": "code",
   "execution_count": 31,
   "metadata": {},
   "outputs": [],
   "source": [
    "def doubleConv(in_channels, out_channels):\n",
    "    conv = nn.Sequential(\n",
    "        nn.Conv2d(in_channels, out_channels, kernel_size=3),\n",
    "        nn.ReLU(inplace=True),\n",
    "        nn.Conv2d(out_channels, out_channels, kernel_size=3),\n",
    "        nn.ReLU(inplace=True)\n",
    "    )\n",
    "    return conv\n",
    "\n",
    "def crop(tensor, target_tensor):\n",
    "    _, _, h, w = target_tensor.size()\n",
    "    tensor = torchvision.transforms.functional.center_crop(tensor, [h, w])\n",
    "    return tensor\n"
   ]
  },
  {
   "cell_type": "code",
   "execution_count": 34,
   "metadata": {},
   "outputs": [],
   "source": [
    "class UNet(nn.Module):\n",
    "    def __init__(self):\n",
    "        super(UNet, self).__init__()\n",
    "\n",
    "        self.maxpool_2x2 = nn.MaxPool2d(kernel_size=2, stride=2)\n",
    "        self.down_conv_1 = doubleConv(1, 64)\n",
    "        self.down_conv_2 = doubleConv(64, 128)\n",
    "        self.down_conv_3 = doubleConv(128, 256)\n",
    "        self.down_conv_4 = doubleConv(256, 512)\n",
    "        self.down_conv_5 = doubleConv(512, 1024)\n",
    "\n",
    "        self.up_conv_1 = doubleConv(1024, 512)\n",
    "        self.up_conv_2 = doubleConv(512, 256)\n",
    "        self.up_conv_3 = doubleConv(256, 128)\n",
    "        self.up_conv_4 = doubleConv(128, 64)\n",
    "\n",
    "        self.up_trans_1 = nn.ConvTranspose2d(1024, 512, kernel_size=2, stride=2)\n",
    "        self.up_trans_2 = nn.ConvTranspose2d(512, 256, kernel_size=2, stride=2)\n",
    "        self.up_trans_3 = nn.ConvTranspose2d(256, 128, kernel_size=2, stride=2)\n",
    "        self.up_trans_4 = nn.ConvTranspose2d(128, 64, kernel_size=2, stride=2)\n",
    "        self.out = nn.ConvTranspose2d(64, 2, kernel_size=1)\n",
    "\n",
    "\n",
    "    def forward(self, x):\n",
    "            # Encoder\n",
    "            x1 = self.down_conv_1(x)\n",
    "            x2 = self.maxpool_2x2(x1)\n",
    "\n",
    "            x3 = self.down_conv_2(x2)\n",
    "            x4 = self.maxpool_2x2(x3)\n",
    "\n",
    "            x5 = self.down_conv_3(x4)\n",
    "            x6 = self.maxpool_2x2(x5)\n",
    "\n",
    "            x7 = self.down_conv_4(x6)\n",
    "            x8 = self.maxpool_2x2(x7)\n",
    "\n",
    "            x9 = self.down_conv_5(x8)\n",
    "\n",
    "            # Decoder\n",
    "            x10 = self.up_trans_1(x9)\n",
    "            y10 = crop(x7, x10)\n",
    "            x11 = self.up_conv_1(torch.cat([x10, y10], 1))\n",
    "\n",
    "            x12 = self.up_trans_2(x11)\n",
    "            y12 = crop(x5, x12)\n",
    "            x13 = self.up_conv_2(torch.cat([x12, y12], 1))\n",
    "\n",
    "            x14 = self.up_trans_3(x13)\n",
    "            y14 = crop(x3, x14)\n",
    "            x15 = self.up_conv_3(torch.cat([x14, y14], 1))\n",
    "\n",
    "            x16 = self.up_trans_4(x15)\n",
    "            y16 = crop(x1, x16)\n",
    "            x17 = self.up_conv_4(torch.cat([x16, y16], 1))\n",
    "\n",
    "            x_out = self.out(x17)\n",
    "            \n",
    "            return x_out"
   ]
  },
  {
   "cell_type": "code",
   "execution_count": 35,
   "metadata": {},
   "outputs": [
    {
     "name": "stdout",
     "output_type": "stream",
     "text": [
      "torch.Size([1, 2, 388, 388])\n"
     ]
    }
   ],
   "source": [
    "image = torch.rand((1, 1, 572, 572))\n",
    "\n",
    "model = UNet()\n",
    "\n",
    "preds = model(image)\n",
    "\n",
    "print(preds.shape)"
   ]
  }
 ],
 "metadata": {
  "kernelspec": {
   "display_name": "convnets",
   "language": "python",
   "name": "python3"
  },
  "language_info": {
   "codemirror_mode": {
    "name": "ipython",
    "version": 3
   },
   "file_extension": ".py",
   "mimetype": "text/x-python",
   "name": "python",
   "nbconvert_exporter": "python",
   "pygments_lexer": "ipython3",
   "version": "3.12.6"
  }
 },
 "nbformat": 4,
 "nbformat_minor": 2
}
