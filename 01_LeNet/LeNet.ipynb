{
 "cells": [
  {
   "cell_type": "markdown",
   "metadata": {},
   "source": [
    "### LeNet5\n",
    "https://yann.lecun.com/exdb/publis/pdf/lecun-01a.pdf"
   ]
  },
  {
   "cell_type": "code",
   "execution_count": 1,
   "metadata": {},
   "outputs": [],
   "source": [
    "import torch\n",
    "import torch.nn as nn\n",
    "import torchvision\n",
    "from torchvision import transforms"
   ]
  },
  {
   "cell_type": "code",
   "execution_count": null,
   "metadata": {},
   "outputs": [],
   "source": [
    "class LeNet(nn.Module):\n",
    "    def __init__(self):\n",
    "        super(LeNet, self).__init__()\n",
    "        self.tanh = nn.Tanh()\n",
    "        self.avgpool = nn.AvgPool2d(kernel_size=2, stride=2)\n",
    "        self.conv1 = nn.Conv2d(in_channels=1, out_channels=6, kernel_size=5, stride=1, padding=2)\n",
    "        self.conv2 = nn.Conv2d(in_channels=6, out_channels=16, kernel_size=5, stride=1)\n",
    "        self.conv3 = nn.Conv2d(in_channels=16, out_channels=120, kernel_size=5, stride=1)\n",
    "        self.l1 = nn.Linear(120, 84)\n",
    "        self.l2 = nn.Linear(84, 10)\n",
    "    \n",
    "    def forward(self, x):\n",
    "        x = x # N x 1 x 28 x 28\n",
    "        x = self.tanh(self.conv1(x)) # N x 6 x 28 x 28\n",
    "        x = self.avgpool(x) # N x 6 x 14 x 14\n",
    "        x = self.tanh(self.conv2(x)) # N x 16 x 10 x 10\n",
    "        x = self.avgpool(x) # N x 16 x 5 x 5\n",
    "        x = self.tanh(self.conv3(x)) # N x 120 x 1 x 1\n",
    "        x = x.reshape(x.shape[0], -1)\n",
    "        x = self.tanh(self.l1(x))\n",
    "        x = self.l2(x)\n",
    "        return x"
   ]
  },
  {
   "cell_type": "code",
   "execution_count": null,
   "metadata": {},
   "outputs": [],
   "source": [
    "def Dataset(batch_size):\n",
    "    transform = transforms.Compose([\n",
    "        transforms.Resize((28, 28)),\n",
    "        transforms.ToTensor(),\n",
    "        transforms.Normalize((0,), (1,))\n",
    "    ])\n",
    "    trainset = torchvision.datasets.MNIST(root='./data', train=True,\n",
    "                                            download=False, transform=transform)\n",
    "    trainset, valset = torch.utils.data.random_split(trainset, [57500, 2500])\n",
    "    trainloader = torch.utils.data.DataLoader(trainset, batch_size=batch_size,\n",
    "                                            shuffle=True)\n",
    "    valloader = torch.utils.data.DataLoader(valset, batch_size=batch_size,\n",
    "                                            shuffle=True)\n",
    "    testset = torchvision.datasets.MNIST(root='./data', train=False,\n",
    "                                        download=False, transform=transform)\n",
    "    testloader = torch.utils.data.DataLoader(testset, batch_size=batch_size,\n",
    "                                            shuffle=False)\n",
    "    return trainloader, valloader, testloader"
   ]
  },
  {
   "cell_type": "code",
   "execution_count": null,
   "metadata": {},
   "outputs": [],
   "source": [
    "model = LeNet()"
   ]
  },
  {
   "cell_type": "code",
   "execution_count": null,
   "metadata": {},
   "outputs": [],
   "source": [
    "lr = 0.01\n",
    "epochs = 20\n",
    "batch = 64\n",
    "criterion = nn.CrossEntropyLoss()\n",
    "optimizer = torch.optim.SGD(model.parameters(), lr=lr)"
   ]
  },
  {
   "cell_type": "code",
   "execution_count": null,
   "metadata": {},
   "outputs": [],
   "source": [
    "def calculate_accuracy(loader, model):\n",
    "    correct = 0\n",
    "    total = 0\n",
    "    model.eval()\n",
    "    with torch.no_grad():\n",
    "        for data, target in loader:\n",
    "            output = model(data)\n",
    "            _, predicted = torch.max(output.data, 1)\n",
    "            total += target.size(0)\n",
    "            correct += (predicted == target).sum().item()\n",
    "    model.train()\n",
    "    return 100 * correct / total\n",
    "\n",
    "def train_model(model, trainloader, valloader, criterion, optimizer, epochs):\n",
    "    for epoch in range(epochs):\n",
    "        running_loss = 0.0\n",
    "        for i, (data, target) in enumerate(trainloader, 0):\n",
    "            optimizer.zero_grad()\n",
    "            outputs = model(data)\n",
    "            loss = criterion(outputs, target)\n",
    "            loss.backward()\n",
    "            optimizer.step()\n",
    "            running_loss += loss.item()\n",
    "        epoch_loss = running_loss / len(trainloader)\n",
    "        train_accuracy = calculate_accuracy(trainloader, model)\n",
    "        val_accuracy = calculate_accuracy(valloader, model)\n",
    "        print(f\"Epoch [{epoch+1}/{epochs}], Loss: {epoch_loss:.4f}, \"\n",
    "              f\"Train Accuracy: {train_accuracy:.2f}%, Validation Accuracy: {val_accuracy:.2f}%\")\n",
    "    print('Training completed.')\n",
    "\n",
    "def test_model(model, testloader):\n",
    "    test_accuracy = calculate_accuracy(testloader, model)\n",
    "    print(f'Test Accuracy: {test_accuracy:.2f}%')"
   ]
  },
  {
   "cell_type": "code",
   "execution_count": 3,
   "metadata": {},
   "outputs": [
    {
     "name": "stdout",
     "output_type": "stream",
     "text": [
      "\n",
      "Epoch [1/20], Loss: 1.4156, Train Accuracy: 86.10%, Validation Accuracy: 87.52%\n",
      "Epoch [2/20], Loss: 0.3862, Train Accuracy: 90.95%, Validation Accuracy: 91.44%\n",
      "Epoch [3/20], Loss: 0.2675, Train Accuracy: 93.23%, Validation Accuracy: 93.80%\n",
      "Epoch [4/20], Loss: 0.2018, Train Accuracy: 94.79%, Validation Accuracy: 94.80%\n",
      "Epoch [5/20], Loss: 0.1592, Train Accuracy: 95.85%, Validation Accuracy: 95.60%\n",
      "Epoch [6/20], Loss: 0.1311, Train Accuracy: 96.55%, Validation Accuracy: 96.60%\n",
      "Epoch [7/20], Loss: 0.1114, Train Accuracy: 96.97%, Validation Accuracy: 97.04%\n",
      "Epoch [8/20], Loss: 0.0975, Train Accuracy: 97.33%, Validation Accuracy: 97.36%\n",
      "Epoch [9/20], Loss: 0.0869, Train Accuracy: 97.58%, Validation Accuracy: 97.56%\n",
      "Epoch [10/20], Loss: 0.0785, Train Accuracy: 97.78%, Validation Accuracy: 97.92%\n",
      "Epoch [11/20], Loss: 0.0721, Train Accuracy: 97.96%, Validation Accuracy: 97.84%\n",
      "Epoch [12/20], Loss: 0.0667, Train Accuracy: 98.07%, Validation Accuracy: 97.92%\n",
      "Epoch [13/20], Loss: 0.0622, Train Accuracy: 98.32%, Validation Accuracy: 98.12%\n",
      "Epoch [14/20], Loss: 0.0583, Train Accuracy: 98.46%, Validation Accuracy: 98.24%\n",
      "Epoch [15/20], Loss: 0.0546, Train Accuracy: 98.46%, Validation Accuracy: 98.20%\n",
      "Epoch [16/20], Loss: 0.0517, Train Accuracy: 98.62%, Validation Accuracy: 98.24%\n",
      "Epoch [17/20], Loss: 0.0491, Train Accuracy: 98.66%, Validation Accuracy: 98.36%\n",
      "Epoch [18/20], Loss: 0.0465, Train Accuracy: 98.78%, Validation Accuracy: 98.40%\n",
      "Epoch [19/20], Loss: 0.0446, Train Accuracy: 98.83%, Validation Accuracy: 98.44%\n",
      "Epoch [20/20], Loss: 0.0426, Train Accuracy: 98.89%, Validation Accuracy: 98.48%\n",
      "Training completed.\n",
      "Test Accuracy: 98.56%\n",
      "\n"
     ]
    }
   ],
   "source": [
    "trainloader, valloader, testloader = Dataset(batch)\n",
    "\n",
    "train_model(model, trainloader, valloader, criterion, optimizer, epochs)\n",
    "test_model(model, testloader)"
   ]
  },
  {
   "cell_type": "code",
   "execution_count": null,
   "metadata": {},
   "outputs": [],
   "source": [
    "torch.save(model.state_dict(), 'LeNet.pth')"
   ]
  }
 ],
 "metadata": {
  "kernelspec": {
   "display_name": "convnets",
   "language": "python",
   "name": "python3"
  },
  "language_info": {
   "codemirror_mode": {
    "name": "ipython",
    "version": 3
   },
   "file_extension": ".py",
   "mimetype": "text/x-python",
   "name": "python",
   "nbconvert_exporter": "python",
   "pygments_lexer": "ipython3",
   "version": "3.12.6"
  }
 },
 "nbformat": 4,
 "nbformat_minor": 2
}
